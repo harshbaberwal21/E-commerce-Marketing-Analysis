{
 "cells": [
  {
   "cell_type": "code",
   "execution_count": null,
   "id": "eefc8e2f",
   "metadata": {},
   "outputs": [],
   "source": [
    "import pandas as pd\n",
    "import numpy as np\n",
    "\n",
    "import seaborn as sns\n",
    "import matplotlib.pyplot as plt\n",
    "from matplotlib.pyplot import figure\n",
    "from datetime import date"
   ]
  },
  {
   "cell_type": "code",
   "execution_count": null,
   "id": "fa605c01",
   "metadata": {},
   "outputs": [],
   "source": []
  },
  {
   "cell_type": "code",
   "execution_count": null,
   "id": "c56f8bc2",
   "metadata": {},
   "outputs": [],
   "source": []
  },
  {
   "cell_type": "code",
   "execution_count": null,
   "id": "c75881c8",
   "metadata": {},
   "outputs": [],
   "source": [
    "total_cost = 6720000\n",
    "n_customers = 2240\n",
    "rev_accepted = 3674000\n",
    "rev_per_accepted = 3674000/modeling_data.Response.value_counts()[1]\n",
    "cost_per_customer = total_cost/n_customers\n",
    "# Coversion around 15%"
   ]
  },
  {
   "cell_type": "code",
   "execution_count": null,
   "id": "03d41f15",
   "metadata": {},
   "outputs": [],
   "source": [
    "cf = confusion_matrix(y_test, y_pred)\n",
    "cf"
   ]
  },
  {
   "cell_type": "code",
   "execution_count": null,
   "id": "190d0286",
   "metadata": {},
   "outputs": [],
   "source": [
    "test_tp = cf[1][1]\n",
    "test_tn = cf[0][0]\n",
    "test_fp = cf[0][1]\n",
    "test_fn = cf[1][0]\n"
   ]
  },
  {
   "cell_type": "markdown",
   "id": "a8fc38e1",
   "metadata": {},
   "source": [
    "### Calculations for test split of data"
   ]
  },
  {
   "cell_type": "code",
   "execution_count": null,
   "id": "b166f28a",
   "metadata": {},
   "outputs": [],
   "source": [
    "n_test_customers = len(y_test)\n",
    "pd.Series(y_test).value_counts(normalize=True)"
   ]
  },
  {
   "cell_type": "markdown",
   "id": "d788803e",
   "metadata": {},
   "source": [
    "Campaign success in test dataset is around 15% (same as that in training data or total population since the split was stratified on the target variable)\n"
   ]
  },
  {
   "cell_type": "code",
   "execution_count": null,
   "id": "36eaa8ba",
   "metadata": {},
   "outputs": [],
   "source": [
    "print(\"Campaign Cost: {}\".format(n_test_customers*cost_per_customer))\n",
    "print(\"Offer Accepted by: {}\".format(pd.Series(y_test).value_counts()[1]))\n",
    "print(\"Revenue: {}\".format(rev_per_accepted*pd.Series(y_test).value_counts()[1]))\n",
    "print(\"Loss: {}\".format(n_test_customers*cost_per_customer - rev_per_accepted*pd.Series(y_test).value_counts()[1]))"
   ]
  },
  {
   "cell_type": "code",
   "execution_count": null,
   "id": "d9a2d8d5",
   "metadata": {},
   "outputs": [],
   "source": [
    "print(\"Campaign Cost: {}\".format((test_tp+test_fp)*cost_per_customer))\n",
    "print(\"Offer Accepted by: {}\".format(test_tp))\n",
    "print(\"Revenue: {}\".format(rev_per_accepted*test_tp))\n",
    "print(\"Profit: {}\".format((rev_per_accepted*test_tp)- (test_tp+test_fp)*cost_per_customer))\n",
    "print(\"Cost Cut: {}\".format((test_tn+test_fn)*cost_per_customer))\n",
    "print(\"Revenue Lost: {}\".format(test_fn*rev_per_accepted))"
   ]
  },
  {
   "cell_type": "markdown",
   "id": "5efa4d66",
   "metadata": {},
   "source": [
    "We will see how the proposed model results would have affected the responses in the test dataset and then extrapolate those to the customer base that was chosen to be tested initially (The 2240 customers)."
   ]
  },
  {
   "cell_type": "markdown",
   "id": "dfc30917",
   "metadata": {},
   "source": [
    "## Extraplolating this to entire customer base tested to begin with\n",
    "#### Attainment of actual population data to predict and then run calculations is highly desirable\n",
    "The following calculations assume that the cost of running the campaign increases linearly with the size of the target audience."
   ]
  },
  {
   "cell_type": "code",
   "execution_count": null,
   "id": "49f5fc7f",
   "metadata": {},
   "outputs": [],
   "source": [
    "round_n = np.vectorize(round)\n",
    "cf_extrap = round_n(cf*n_customers/n_test_customers)\n"
   ]
  },
  {
   "cell_type": "code",
   "execution_count": null,
   "id": "340d2c16",
   "metadata": {},
   "outputs": [],
   "source": [
    "sum(sum(cf_extrap))"
   ]
  },
  {
   "cell_type": "code",
   "execution_count": null,
   "id": "abefaca5",
   "metadata": {},
   "outputs": [],
   "source": [
    "train_tp = cf_extrap[1][1]\n",
    "train_tn = cf_extrap[0][0]\n",
    "train_fp = cf_extrap[0][1]\n",
    "train_fn = cf_extrap[1][0]"
   ]
  },
  {
   "cell_type": "code",
   "execution_count": null,
   "id": "076a8da8",
   "metadata": {},
   "outputs": [],
   "source": [
    "print(\"Campaign Cost: {}\".format((train_tp + train_fp)*cost_per_customer))\n",
    "print(\"Offer Accepted by: {}\".format(train_tp))\n",
    "print(\"Revenue: {}\".format(rev_per_accepted*train_tp))\n",
    "print(\"Profit: {}\".format((rev_per_accepted*train_tp)- (train_tp + train_fp)*cost_per_customer))\n",
    "print(\"Cost Saved: {}\".format((train_tn + train_fn)*cost_per_customer))\n",
    "print(\"Revenue Lost: {}\".format(train_fn*rev_per_accepted))"
   ]
  },
  {
   "cell_type": "code",
   "execution_count": null,
   "id": "b1ea877d",
   "metadata": {},
   "outputs": [],
   "source": [
    "print(\"Using such a model increases the campaign success from {}% to {}%\".\n",
    "      format(\n",
    "      round(pd.Series(y_test).value_counts(normalize=True)[1]*100,1),\n",
    "          round(train_tp*100/(train_tp + train_fn),1)\n",
    "      ))"
   ]
  },
  {
   "cell_type": "markdown",
   "id": "3ee8f56d",
   "metadata": {},
   "source": [
    "### If the model performs with roughly the same accuracy "
   ]
  },
  {
   "cell_type": "code",
   "execution_count": null,
   "id": "6341b1d7",
   "metadata": {},
   "outputs": [],
   "source": [
    "1964646*total_cost/834000"
   ]
  },
  {
   "cell_type": "code",
   "execution_count": null,
   "id": "fad37155",
   "metadata": {},
   "outputs": [],
   "source": []
  },
  {
   "cell_type": "code",
   "execution_count": null,
   "id": "6e729347",
   "metadata": {},
   "outputs": [],
   "source": []
  },
  {
   "cell_type": "markdown",
   "id": "c0577aed",
   "metadata": {},
   "source": [
    "## Now given the accuracy of the model, the question comes how many ads should be run to be on a more profitable side compared to the intial investment made.\n",
    "\n",
    "Assuming the cost and revenue grows linearly with the size of the target audience. Probably, another function or logic could be added here."
   ]
  },
  {
   "cell_type": "code",
   "execution_count": null,
   "id": "a47f0f50",
   "metadata": {},
   "outputs": [],
   "source": [
    "cost = []\n",
    "revenue = []\n",
    "profit = []\n",
    "\n",
    "for n in range(1,10001):\n",
    "    \n",
    "    cf_n = round_n(cf*n/n_test_customers)\n",
    "    tp_n = cf_n[1][1]\n",
    "    tn_n = cf_n[0][0]\n",
    "    fp_n = cf_n[0][1]\n",
    "    fn_n = cf_n[1][0]\n",
    "    \n",
    "    cost_n = (tp_n + fp_n)*cost_per_customer\n",
    "    revenue_n = rev_per_accepted*tp_n\n",
    "    profit_n = (rev_per_accepted*tp_n)- (tp_n + fp_n)*cost_per_customer\n",
    "    \n",
    "    cost.append(cost_n)\n",
    "    revenue.append(revenue_n)\n",
    "    profit.append(profit_n)\n",
    "\n",
    "\n",
    "\n",
    "\n",
    "\n",
    "\n",
    "    "
   ]
  },
  {
   "cell_type": "code",
   "execution_count": null,
   "id": "3a1a79a4",
   "metadata": {},
   "outputs": [],
   "source": [
    "fig, ax1 = plt.subplots()\n",
    "\n",
    "sns.lineplot(x = [*range(1,10001)], y = cost,ax = ax1)\n",
    "sns.lineplot(x = [*range(1,10001)], y = revenue,ax = ax1)\n",
    "sns.lineplot(x = [*range(1,10001)], y = profit,ax = ax1)"
   ]
  },
  {
   "cell_type": "code",
   "execution_count": null,
   "id": "91e4ffd1",
   "metadata": {},
   "outputs": [],
   "source": [
    "n = 2400\n",
    "cf_n = round_n(cf*n/n_test_customers)\n",
    "tp_n = cf_n[1][1]\n",
    "tn_n = cf_n[0][0]\n",
    "fp_n = cf_n[0][1]\n",
    "fn_n = cf_n[1][0]\n",
    "\n",
    "cost_n = (tp_n + fp_n)*cost_per_customer\n",
    "revenue_n = rev_per_accepted*tp_n\n",
    "profit_n = (rev_per_accepted*tp_n)- (tp_n + fp_n)*cost_per_customer\n",
    "\n"
   ]
  },
  {
   "cell_type": "markdown",
   "id": "cbb5085d",
   "metadata": {},
   "source": [
    "## If the same investment was made on the basis of this model results."
   ]
  },
  {
   "cell_type": "code",
   "execution_count": null,
   "id": "3235ef9e",
   "metadata": {},
   "outputs": [],
   "source": [
    "n_cust_reached = test_tp + test_fp\n",
    "\n",
    "test_tp*n_customers/()"
   ]
  },
  {
   "cell_type": "code",
   "execution_count": null,
   "id": "d07ad7b3",
   "metadata": {},
   "outputs": [],
   "source": []
  }
 ],
 "metadata": {
  "kernelspec": {
   "display_name": "Python 3 (ipykernel)",
   "language": "python",
   "name": "python3"
  },
  "language_info": {
   "codemirror_mode": {
    "name": "ipython",
    "version": 3
   },
   "file_extension": ".py",
   "mimetype": "text/x-python",
   "name": "python",
   "nbconvert_exporter": "python",
   "pygments_lexer": "ipython3",
   "version": "3.8.8"
  }
 },
 "nbformat": 4,
 "nbformat_minor": 5
}
