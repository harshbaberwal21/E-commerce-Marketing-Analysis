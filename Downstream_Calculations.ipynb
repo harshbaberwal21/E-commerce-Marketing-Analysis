{
 "cells": [
  {
   "cell_type": "code",
   "execution_count": 1,
   "id": "eefc8e2f",
   "metadata": {},
   "outputs": [],
   "source": [
    "import pandas as pd\n",
    "import numpy as np\n",
    "\n",
    "import os\n",
    "import pathlib\n",
    "\n",
    "from sklearn.metrics import confusion_matrix"
   ]
  },
  {
   "cell_type": "code",
   "execution_count": 2,
   "id": "575ba9be",
   "metadata": {},
   "outputs": [],
   "source": [
    "pd.set_option(\"display.max_columns\", None)"
   ]
  },
  {
   "cell_type": "code",
   "execution_count": 3,
   "id": "c9d32ae0",
   "metadata": {},
   "outputs": [],
   "source": [
    "repo_path = pathlib.Path().resolve()\n",
    "os.chdir(str(repo_path))"
   ]
  },
  {
   "cell_type": "code",
   "execution_count": 4,
   "id": "fa605c01",
   "metadata": {},
   "outputs": [],
   "source": [
    "modeling_data = pd.read_csv(\"Data/campaign_data_w_predictions.csv\")"
   ]
  },
  {
   "cell_type": "markdown",
   "id": "893635ff",
   "metadata": {},
   "source": [
    "##### Defining some global variables"
   ]
  },
  {
   "cell_type": "code",
   "execution_count": 5,
   "id": "c75881c8",
   "metadata": {},
   "outputs": [],
   "source": [
    "total_cost = 6720000\n",
    "n_customers = 2240\n",
    "rev_accepted = 3674000\n",
    "rev_per_accepted = 3674000/modeling_data.Response.value_counts()[1]\n",
    "cost_per_customer = total_cost/n_customers\n",
    "# Coversion around 15%"
   ]
  },
  {
   "cell_type": "markdown",
   "id": "1f3244c6",
   "metadata": {},
   "source": [
    "##### Buildind the test confusion matrix and creating varibles for each vallue in it (i.e. True Positives, False Positives etc.)"
   ]
  },
  {
   "cell_type": "code",
   "execution_count": 6,
   "id": "03d41f15",
   "metadata": {},
   "outputs": [
    {
     "name": "stdout",
     "output_type": "stream",
     "text": [
      "[[370   6]\n",
      " [ 53  13]]\n"
     ]
    }
   ],
   "source": [
    "y_test = modeling_data.loc[modeling_data['split'] == 'test',\"Response\"]\n",
    "y_pred = modeling_data.loc[modeling_data['split'] == 'test',\"Predictions\"]\n",
    "n_test_customers = len(y_test)\n",
    "cf = confusion_matrix(y_test,y_pred)\n",
    "print(cf)"
   ]
  },
  {
   "cell_type": "code",
   "execution_count": 7,
   "id": "190d0286",
   "metadata": {},
   "outputs": [],
   "source": [
    "test_tp = cf[1][1]\n",
    "test_tn = cf[0][0]\n",
    "test_fp = cf[0][1]\n",
    "test_fn = cf[1][0]"
   ]
  },
  {
   "cell_type": "markdown",
   "id": "2e90c332",
   "metadata": {},
   "source": [
    "### Checking the Conversion Rate\n",
    "##### original campaign vs campaign under proposed model"
   ]
  },
  {
   "cell_type": "code",
   "execution_count": 8,
   "id": "aa3e27cf",
   "metadata": {},
   "outputs": [
    {
     "name": "stdout",
     "output_type": "stream",
     "text": [
      "The proposed model have the potential of increasing the campaign success from \u001b[1m~15%\u001b[0m to \u001b[1m~68%\u001b[0m\n"
     ]
    }
   ],
   "source": [
    "print(\"The proposed model have the potential of increasing the campaign success from \\033[1m~{}%\\033[0m to \\033[1m~{}%\\033[0m\".\n",
    "      format(\n",
    "      round(pd.Series(y_test).value_counts(normalize=True)[1]*100),\n",
    "          round(test_tp*100/(test_tp + test_fp))\n",
    "      ))"
   ]
  },
  {
   "cell_type": "markdown",
   "id": "2fba68d8",
   "metadata": {},
   "source": [
    "### Original Sample Campaign Results\n",
    "##### for the customers in test split"
   ]
  },
  {
   "cell_type": "code",
   "execution_count": 9,
   "id": "36eaa8ba",
   "metadata": {},
   "outputs": [
    {
     "name": "stdout",
     "output_type": "stream",
     "text": [
      "Campaign Cost: 1326000.0\n",
      "\n",
      "Offer Accepted by: 66\n",
      "\n",
      "Revenue: 732580.0604229607\n",
      "\n",
      "Loss: 593419.9395770393\n",
      "\n"
     ]
    }
   ],
   "source": [
    "print(\"Campaign Cost: {}\\n\".format(n_test_customers*cost_per_customer))\n",
    "print(\"Offer Accepted by: {}\\n\".format(pd.Series(y_test).value_counts()[1]))\n",
    "print(\"Revenue: {}\\n\".format(rev_per_accepted*pd.Series(y_test).value_counts()[1]))\n",
    "print(\"Loss: {}\\n\".format(n_test_customers*cost_per_customer - rev_per_accepted*pd.Series(y_test).value_counts()[1]))"
   ]
  },
  {
   "cell_type": "markdown",
   "id": "cbd22710",
   "metadata": {},
   "source": [
    "### Campaign Results with the Proposed Model\n",
    "##### for the customers in test split"
   ]
  },
  {
   "cell_type": "code",
   "execution_count": 10,
   "id": "d9a2d8d5",
   "metadata": {
    "scrolled": false
   },
   "outputs": [
    {
     "name": "stdout",
     "output_type": "stream",
     "text": [
      "Campaign Cost: 57000.0\n",
      "\n",
      "Offer Accepted by: 13\n",
      "\n",
      "Revenue: 144296.07250755286\n",
      "\n",
      "Profit: 87296.07250755286\n",
      "\n",
      "Cost Cut: 1269000.0\n",
      "\n",
      "Revenue Lost: 588283.9879154079\n",
      "\n"
     ]
    }
   ],
   "source": [
    "print(\"Campaign Cost: {}\\n\".format((test_tp+test_fp)*cost_per_customer))\n",
    "print(\"Offer Accepted by: {}\\n\".format(test_tp))\n",
    "print(\"Revenue: {}\\n\".format(rev_per_accepted*test_tp))\n",
    "print(\"Profit: {}\\n\".format((rev_per_accepted*test_tp)- (test_tp+test_fp)*cost_per_customer))\n",
    "print(\"Cost Cut: {}\\n\".format((test_tn+test_fn)*cost_per_customer))\n",
    "print(\"Revenue Lost: {}\\n\".format(test_fn*rev_per_accepted))"
   ]
  },
  {
   "cell_type": "markdown",
   "id": "5efa4d66",
   "metadata": {},
   "source": [
    "We will now extrapolate the test confusion matrix to n number of customers and see the campaign results."
   ]
  },
  {
   "cell_type": "markdown",
   "id": "dfc30917",
   "metadata": {},
   "source": [
    "### Extraplolating Model Results to n Customers\n",
    "##### Attainment of actual population data to predict and then run calculations is highly desirable\n",
    "The following calculations assume that the cost of running the campaign increases linearly with the size of the target audience. Perhaps a different relationship/function could be modeled here"
   ]
  },
  {
   "cell_type": "code",
   "execution_count": 11,
   "id": "6e729347",
   "metadata": {},
   "outputs": [],
   "source": [
    "# Function to predict campaign results given n number of customers that the model was run on \n",
    "# out of which only true positives and false positives will be targeted with the campaign\n",
    "\n",
    "def campaign_predictions(n,cf):\n",
    "    \"\"\"Takes in the total number of customers on which the model will run and test confusion matrix to predict the campaign results\"\"\"\n",
    "    round_n = np.vectorize(round)\n",
    "    cf_extrap = round_n(cf*n/sum(sum(cf)))\n",
    "    n_tp = cf_extrap[1][1]\n",
    "    n_tn = cf_extrap[0][0]\n",
    "    n_fp = cf_extrap[0][1]\n",
    "    n_fn = cf_extrap[1][0]\n",
    "    \n",
    "    global total_cost\n",
    "    global n_customers\n",
    "    global rev_accepted\n",
    "    global rev_per_accepted\n",
    "    global cost_per_customer\n",
    "    \n",
    "    print(\"Customers Reached {}\\n\".format(n))\n",
    "    print(\"Campaign Cost: {}\\n\".format((n_tp + n_fp)*cost_per_customer))\n",
    "    print(\"Offer Accepted by: {}\\n\".format(n_tp))\n",
    "    print(\"Revenue: {}\\n\".format(rev_per_accepted*n_tp))\n",
    "    print(\"Profit: {}\\n\".format((rev_per_accepted*n_tp)- (n_tp + n_fp)*cost_per_customer))\n",
    "    print(\"Cost Saved: {}\\n\".format((n_tn + n_fn)*cost_per_customer))\n",
    "    print(\"Revenue Lost: {}\\n\".format(n_fn*rev_per_accepted))\n",
    "    \n",
    "    return cf_extrap\n",
    "    "
   ]
  },
  {
   "cell_type": "markdown",
   "id": "52cc5912",
   "metadata": {},
   "source": [
    "##### Campaign predictions if this model was run on customers before running the original campaign\n",
    "Not the best practice but for the lack of more data, this is what it is."
   ]
  },
  {
   "cell_type": "code",
   "execution_count": 12,
   "id": "32dd2b65",
   "metadata": {
    "scrolled": true
   },
   "outputs": [
    {
     "name": "stdout",
     "output_type": "stream",
     "text": [
      "Customers Reached 2240\n",
      "\n",
      "Campaign Cost: 288000.0\n",
      "\n",
      "Offer Accepted by: 66\n",
      "\n",
      "Revenue: 732580.0604229607\n",
      "\n",
      "Profit: 444580.06042296067\n",
      "\n",
      "Cost Saved: 6432000.0\n",
      "\n",
      "Revenue Lost: 2985818.7311178246\n",
      "\n"
     ]
    },
    {
     "data": {
      "text/plain": [
       "array([[1875,   30],\n",
       "       [ 269,   66]])"
      ]
     },
     "execution_count": 12,
     "metadata": {},
     "output_type": "execute_result"
    }
   ],
   "source": [
    "campaign_predictions(n=n_customers,cf = cf)"
   ]
  },
  {
   "cell_type": "markdown",
   "id": "270ff9b8",
   "metadata": {},
   "source": [
    "##### Campaign predicitons if as many customers were reached as in the original campaign but on the basis of model results.\n",
    "also meaning that the campaign cost same as the original campaign"
   ]
  },
  {
   "cell_type": "code",
   "execution_count": 13,
   "id": "a1971703",
   "metadata": {},
   "outputs": [],
   "source": [
    "perc_predicted_targets = (test_tp + test_fp)/sum(sum(cf))\n",
    "n_total = round(n_customers/perc_predicted_targets)"
   ]
  },
  {
   "cell_type": "code",
   "execution_count": 14,
   "id": "01d617c8",
   "metadata": {
    "scrolled": true
   },
   "outputs": [
    {
     "name": "stdout",
     "output_type": "stream",
     "text": [
      "Customers Reached 52109\n",
      "\n",
      "Campaign Cost: 6720000.0\n",
      "\n",
      "Offer Accepted by: 1533\n",
      "\n",
      "Revenue: 17015836.85800604\n",
      "\n",
      "Profit: 10295836.858006041\n",
      "\n",
      "Cost Saved: 149607000.0\n",
      "\n",
      "Revenue Lost: 69350912.38670695\n",
      "\n"
     ]
    },
    {
     "data": {
      "text/plain": [
       "array([[43621,   707],\n",
       "       [ 6248,  1533]])"
      ]
     },
     "execution_count": 14,
     "metadata": {},
     "output_type": "execute_result"
    }
   ],
   "source": [
    "campaign_predictions(n=n_total,cf = cf)"
   ]
  },
  {
   "cell_type": "code",
   "execution_count": null,
   "id": "b1aab8f5",
   "metadata": {},
   "outputs": [],
   "source": []
  }
 ],
 "metadata": {
  "kernelspec": {
   "display_name": "Python 3 (ipykernel)",
   "language": "python",
   "name": "python3"
  },
  "language_info": {
   "codemirror_mode": {
    "name": "ipython",
    "version": 3
   },
   "file_extension": ".py",
   "mimetype": "text/x-python",
   "name": "python",
   "nbconvert_exporter": "python",
   "pygments_lexer": "ipython3",
   "version": "3.8.8"
  }
 },
 "nbformat": 4,
 "nbformat_minor": 5
}
